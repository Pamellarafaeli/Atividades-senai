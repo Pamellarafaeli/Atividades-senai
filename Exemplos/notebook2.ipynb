{
 "cells": [
  {
   "cell_type": "markdown",
   "metadata": {},
   "source": [
    "1.\tO que são vetores?"
   ]
  },
  {
   "cell_type": "markdown",
   "metadata": {},
   "source": [
    "Vetores em Python são estruturas de dados que permitem armazenar coleções ordenadas de elementos do mesmo tipo. Eles são acessados por meio de índices que representam a posição do elemento no vetor. Já em geral, os vetores são tipos que permitem o armazenamento de uma coleção de valores do mesmo tipo, ou seja, os vetores são estruturas de dados homogêneas (formados por elementos de mesmo tipo) e unidimensionais."
   ]
  },
  {
   "cell_type": "code",
   "execution_count": 3,
   "metadata": {},
   "outputs": [
    {
     "name": "stdout",
     "output_type": "stream",
     "text": [
      "A soma desses números é: 28.0\n"
     ]
    }
   ],
   "source": [
    "numeros = []\n",
    "quantidade = int(input(\"Quantos números você deseja somar? \"))\n",
    "for i in range(quantidade):\n",
    "    num = float(input(f\"Digite o número {i + 1}: \"))\n",
    "    numeros.append(num)\n",
    "soma = sum(numeros)\n",
    "print(\"A soma desses números é:\", soma)"
   ]
  },
  {
   "cell_type": "markdown",
   "metadata": {},
   "source": [
    "2.\tComo criar um vetor em lista?"
   ]
  },
  {
   "cell_type": "markdown",
   "metadata": {},
   "source": [
    "\n",
    "\n",
    "Ao criar a váriavel, invés de por [] vazios, irá por alguns números aleatórios ou o que quiser. Siga o exemplo abaixo:\n"
   ]
  },
  {
   "cell_type": "code",
   "execution_count": 4,
   "metadata": {},
   "outputs": [
    {
     "name": "stdout",
     "output_type": "stream",
     "text": [
      "Primeiro elemento: 1\n",
      "Vetor após adicionar 6: [1, 2, 3, 4, 5, 6]\n",
      "Vetor após remover 3: [1, 2, 4, 5, 6]\n"
     ]
    }
   ],
   "source": [
    "vetor = [1, 2, 3, 4, 5]\n",
    "print(\"Primeiro elemento:\", vetor[0])\n",
    "vetor.append(6)\n",
    "print(\"Vetor após adicionar 6:\", vetor)\n",
    "vetor.remove(3)\n",
    "print(\"Vetor após remover 3:\", vetor)\n"
   ]
  },
  {
   "cell_type": "markdown",
   "metadata": {},
   "source": [
    "3.\tQuais as formas de concatenação de lista?"
   ]
  },
  {
   "cell_type": "markdown",
   "metadata": {},
   "source": [
    "Concatenar listas em Python significa juntar duas ou mais listas em uma única lista. Essa operação é muito comum em diversas aplicações de programação. Python oferece diversas formas de realizar essa tarefa"
   ]
  },
  {
   "cell_type": "code",
   "execution_count": 5,
   "metadata": {},
   "outputs": [
    {
     "name": "stdout",
     "output_type": "stream",
     "text": [
      "[1, 2, 3, 4, 5, 6]\n"
     ]
    }
   ],
   "source": [
    "lista1 = [1, 2, 3]\n",
    "lista2 = [4, 5, 6]\n",
    "lista_concatenada = lista1 + lista2\n",
    "print(lista_concatenada)"
   ]
  },
  {
   "cell_type": "markdown",
   "metadata": {},
   "source": [
    "4.\tComo ler os itens de uma lista? Exemplifique."
   ]
  },
  {
   "cell_type": "markdown",
   "metadata": {},
   "source": [
    "Significa acessar cada elemento individualmente dentro dessa estrutura de dados."
   ]
  },
  {
   "cell_type": "code",
   "execution_count": 6,
   "metadata": {},
   "outputs": [
    {
     "name": "stdout",
     "output_type": "stream",
     "text": [
      "10\n",
      "20\n",
      "30\n",
      "40\n",
      "O primeiro elemento é: 10\n"
     ]
    }
   ],
   "source": [
    "minha_lista = [10, 20, 30, 40]\n",
    "for numero in minha_lista:\n",
    "    print(numero)\n",
    "primeiro_elemento = minha_lista[0]\n",
    "print(\"O primeiro elemento é:\", primeiro_elemento)"
   ]
  },
  {
   "cell_type": "markdown",
   "metadata": {},
   "source": [
    "5.\tQuais são os principais métodos para utilizar com vetores? Exemplifique."
   ]
  },
  {
   "cell_type": "code",
   "execution_count": 7,
   "metadata": {},
   "outputs": [
    {
     "name": "stdout",
     "output_type": "stream",
     "text": [
      "[1, 2, 3, 4]\n"
     ]
    }
   ],
   "source": [
    "# Append #\n",
    "vetor = [1, 2, 3]\n",
    "vetor.append(4)\n",
    "print(vetor)\n",
    "\n"
   ]
  },
  {
   "cell_type": "code",
   "execution_count": 8,
   "metadata": {},
   "outputs": [
    {
     "name": "stdout",
     "output_type": "stream",
     "text": [
      "[1, 3]\n"
     ]
    }
   ],
   "source": [
    "# Remove #\n",
    "vetor = [1, 2, 3]\n",
    "vetor.remove(2)\n",
    "print(vetor)\n"
   ]
  },
  {
   "cell_type": "markdown",
   "metadata": {},
   "source": [
    "6.\tO que é “slicing” e como utilizar em listas? Exemplifique"
   ]
  },
  {
   "cell_type": "markdown",
   "metadata": {},
   "source": [
    "Slicing é usado para extrair subconjuntos de uma lista. É como se fosse uma pizza, onde você pode cortar e escolher seus pedaços."
   ]
  },
  {
   "cell_type": "code",
   "execution_count": 12,
   "metadata": {},
   "outputs": [
    {
     "name": "stdout",
     "output_type": "stream",
     "text": [
      "[0, 1, 2]\n",
      "[8, 9]\n"
     ]
    }
   ],
   "source": [
    "numeros = list(range(10)) \n",
    "primeiros_tres = numeros[:3]\n",
    "ultimos_dois = numeros[-2:]\n",
    "\n",
    "print(primeiros_tres) \n",
    "print(ultimos_dois) "
   ]
  },
  {
   "cell_type": "markdown",
   "metadata": {},
   "source": [
    "7.\tQuando utilizar “del” ou “remove” de uma lista? Exemplifique."
   ]
  },
  {
   "cell_type": "markdown",
   "metadata": {},
   "source": [
    "\"Del\" será usado quer remover algo em uma posição específica"
   ]
  },
  {
   "cell_type": "code",
   "execution_count": 15,
   "metadata": {},
   "outputs": [
    {
     "name": "stdout",
     "output_type": "stream",
     "text": [
      "[20, 30, 40, 50]\n"
     ]
    }
   ],
   "source": [
    "lista = [10, 20, 30, 40, 50]\n",
    "del lista[0]\n",
    "print(lista)\n"
   ]
  },
  {
   "cell_type": "markdown",
   "metadata": {},
   "source": [
    "\"Remove\" já é utilizado para retirar o primeiro valor específico da lista"
   ]
  },
  {
   "cell_type": "code",
   "execution_count": 16,
   "metadata": {},
   "outputs": [
    {
     "name": "stdout",
     "output_type": "stream",
     "text": [
      "[10, 30, 40, 50, 20]\n"
     ]
    }
   ],
   "source": [
    "lista = [10, 20, 30, 40, 50, 20]\n",
    "lista.remove(20)\n",
    "print(lista) \n"
   ]
  },
  {
   "cell_type": "markdown",
   "metadata": {},
   "source": [
    "1.\tFaça um programa que leia um número n e imprima n linhas na tela com o seguinte formato (exemplo se n = 5):"
   ]
  },
  {
   "cell_type": "code",
   "execution_count": 18,
   "metadata": {},
   "outputs": [
    {
     "name": "stdout",
     "output_type": "stream",
     "text": [
      "1\n",
      "1 2\n",
      "1 2 3\n",
      "1 2 3 4\n",
      "1 2 3 4 5\n"
     ]
    }
   ],
   "source": [
    "def numero_piramide(n):\n",
    "    for i in range (1, n + 1):\n",
    "        linha = ' '.join(str(num) for num in range (1, i + 1))\n",
    "        print (linha)\n",
    "n = int(input(\"Digite um número inteiro: \"))\n",
    "numero_piramide(n)"
   ]
  },
  {
   "cell_type": "markdown",
   "metadata": {},
   "source": [
    "2.\tFaça um programa que leia n notas, mostre as notas e a média."
   ]
  },
  {
   "cell_type": "code",
   "execution_count": 26,
   "metadata": {},
   "outputs": [
    {
     "name": "stdout",
     "output_type": "stream",
     "text": [
      "As notas digitadas foram: [10.0, 2.0, 9.0]\n",
      "A média das notas é: 7.00\n"
     ]
    }
   ],
   "source": [
    "def obter_notas():\n",
    "    quantidade_notas = int(input(\"Quantas notas você quer digitar? \"))\n",
    "    notas = []\n",
    "    for _ in range(quantidade_notas):\n",
    "        nota = float(input(\"Digite uma nota: \"))\n",
    "        notas.append(nota)\n",
    "    return notas\n",
    "\n",
    "def calcular_media(notas):\n",
    "    return sum(notas) / len(notas)\n",
    "todas_notas = obter_notas()\n",
    "media = calcular_media(todas_notas)\n",
    "print(\"As notas digitadas foram:\", todas_notas)\n",
    "print(f\"A média das notas é: {media:.2f}\")"
   ]
  },
  {
   "cell_type": "markdown",
   "metadata": {},
   "source": [
    "3.\tFaça um programa que:\n",
    "- Lê duas listas com 5 inteiros cada.\n",
    "- Checa quais elementos da segunda lista são iguais a algum elemento  da primeira lista.\n",
    "- Se não houver elementos em comum, o programa deve informar \n"
   ]
  },
  {
   "cell_type": "code",
   "execution_count": 32,
   "metadata": {},
   "outputs": [
    {
     "name": "stdout",
     "output_type": "stream",
     "text": [
      "Os elementos em comum são: [10, 10]\n",
      "Lista 1: [10, 10, 10, 10, 10]\n",
      "Lista 2: [10, 10, 5, 5, 5]\n"
     ]
    }
   ],
   "source": [
    "def criar_lista(tamanho):\n",
    "  lista = []\n",
    "  for _ in range(tamanho):\n",
    "    numero = int(input(\"Digite um número: \"))\n",
    "    lista.append(numero)\n",
    "  return lista\n",
    "tamanho_lista1 = int(input(\"Digite o tamanho da primeira lista: \"))\n",
    "tamanho_lista2 = int(input(\"Digite o tamanho da segunda lista: \"))\n",
    "lista1 = criar_lista(tamanho_lista1)\n",
    "lista2 = criar_lista(tamanho_lista2)\n",
    "elementos_em_comum = []\n",
    "for elemento in lista2:\n",
    "  if elemento in lista1:\n",
    "    elementos_em_comum.append(elemento)\n",
    "if elementos_em_comum:\n",
    "  print(\"Os elementos em comum são:\", elementos_em_comum)\n",
    "else:\n",
    "  print(\"Não há elementos em comum entre as duas listas.\")\n",
    "print(\"Lista 1:\", lista1)\n",
    "print(\"Lista 2:\", lista2)"
   ]
  }
 ],
 "metadata": {
  "interpreter": {
   "hash": "d6ca1284c7bd7ae5870c8ab738ede617c834b0c6d27e733d7d2a522b2e1e0f98"
  },
  "kernelspec": {
   "display_name": "Python 3.12.5 64-bit (system)",
   "language": "python",
   "name": "python3"
  },
  "language_info": {
   "codemirror_mode": {
    "name": "ipython",
    "version": 3
   },
   "file_extension": ".py",
   "mimetype": "text/x-python",
   "name": "python",
   "nbconvert_exporter": "python",
   "pygments_lexer": "ipython3",
   "version": "3.12.5"
  },
  "orig_nbformat": 4
 },
 "nbformat": 4,
 "nbformat_minor": 2
}
