{
 "cells": [
  {
   "cell_type": "markdown",
   "metadata": {},
   "source": [
    "Exemplo class TV"
   ]
  },
  {
   "cell_type": "code",
   "execution_count": 5,
   "metadata": {},
   "outputs": [
    {
     "name": "stdout",
     "output_type": "stream",
     "text": [
      "Netflix\n",
      "Netflix\n",
      "preta\n",
      "55\n",
      "10\n"
     ]
    }
   ],
   "source": [
    "class TV:\n",
    " def __init__(self):\n",
    "     self.cor = \"preta\"\n",
    "     self.ligada = False\n",
    "     self.tamanho = 55\n",
    "     self.canal = \"Netflix\"\n",
    "     self.volume = 10\n",
    "\n",
    "#Programa#\n",
    "tv_sala = TV()\n",
    "tv_quarto = TV()\n",
    "\n",
    "print (tv_quarto.canal) #Imprime netflix\n",
    "print (tv_sala.canal) #Imprime netflix#\n",
    "print (tv_sala.cor)\n",
    "print (tv_sala.tamanho)\n",
    "print (tv_sala.volume)"
   ]
  },
  {
   "cell_type": "markdown",
   "metadata": {},
   "source": []
  }
 ],
 "metadata": {
  "interpreter": {
   "hash": "ac59ebe37160ed0dfa835113d9b8498d9f09ceb179beaac4002f036b9467c963"
  },
  "kernelspec": {
   "display_name": "Python 3.9.7 64-bit (system)",
   "language": "python",
   "name": "python3"
  },
  "language_info": {
   "codemirror_mode": {
    "name": "ipython",
    "version": 3
   },
   "file_extension": ".py",
   "mimetype": "text/x-python",
   "name": "python",
   "nbconvert_exporter": "python",
   "pygments_lexer": "ipython3",
   "version": "3.9.7"
  },
  "orig_nbformat": 4
 },
 "nbformat": 4,
 "nbformat_minor": 2
}
